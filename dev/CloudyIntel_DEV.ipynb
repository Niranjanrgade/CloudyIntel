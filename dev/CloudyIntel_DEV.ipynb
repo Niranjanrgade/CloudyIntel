{
 "cells": [
  {
   "cell_type": "code",
   "execution_count": 16,
   "id": "17bac221",
   "metadata": {},
   "outputs": [],
   "source": [
    "from enum import Enum\n",
    "from typing import TypedDict, Annotated, List, Dict, Any, Optional\n",
    "from langchain_openai import ChatOpenAI\n",
    "from langchain_core.tools import Tool\n",
    "from langgraph.graph import add_messages\n",
    "from langchain_community.utilities import GoogleSerperAPIWrapper"
   ]
  },
  {
   "cell_type": "code",
   "execution_count": 12,
   "id": "f6fedcc8",
   "metadata": {},
   "outputs": [],
   "source": [
    "\n",
    "llm = ChatOpenAI(model=\"gpt-5-mini\")\n",
    "serper = GoogleSerperAPIWrapper()\n",
    "tool_web_search = Tool(\n",
    "    name=\"web_search\",\n",
    "    func=serper.run,\n",
    "    description=\"Useful for when you need more information from the web about a query\"\n",
    ")\n",
    "tools = [tool_web_search]\n",
    "llm_with_tools = llm.bind_tools(tools)\n"
   ]
  },
  {
   "cell_type": "code",
   "execution_count": 13,
   "id": "8a54b09a",
   "metadata": {},
   "outputs": [],
   "source": [
    "class Phase(str, Enum):\n",
    "    GENERATE = \"generate\"\n",
    "    VALIDATE = \"validate\"\n",
    "    AUDIT = \"audit\"\n",
    "    COMPLETE = \"complete\""
   ]
  },
  {
   "cell_type": "code",
   "execution_count": 17,
   "id": "7798f80e",
   "metadata": {},
   "outputs": [],
   "source": [
    "class State(TypedDict):\n",
    "    messages: Annotated[List, add_messages]\n",
    "    user_problem: str\n",
    "    current_phase: Phase\n",
    "    iteration_count: int\n",
    "    \n",
    "    proposed_architecture: Dict[str, Any]\n",
    "    architecture_components: Dict[str, Dict[str, Any]]\n",
    "\n",
    "    validation_feedback: List[Dict[str, Any]]\n",
    "    audit_feedback: List[Dict[str, Any]]\n",
    "\n",
    "    active_agents: List[str]\n",
    "    completed_agents: List[str]\n",
    "\n",
    "    factual_errors_exist: bool\n",
    "    design_flaws_exist: bool\n",
    "\n",
    "    final_architecture: Optional[Dict[str, Any]]\n",
    "    architecture_summary: Optional[str]\n",
    "    "
   ]
  },
  {
   "cell_type": "code",
   "execution_count": null,
   "id": "6a834966",
   "metadata": {},
   "outputs": [],
   "source": []
  },
  {
   "cell_type": "code",
   "execution_count": null,
   "id": "d25edf6d",
   "metadata": {},
   "outputs": [],
   "source": [
    "def architect_supervisor(state: State) -> State:\n",
    "    \"\"\"\n",
    "    This function orchestrates the architecture generation process. And Supervisor that coordinates the architect agents.\n",
    "    \"\"\"\n",
    "\n",
    "    system_prompt = f\"\"\"\n",
    "    You are a architect supervisor for AWS cloud architecture.\n",
    "    Your role is to decompose the user's problem into smaller components on the basis of domain and assign them to different architect domain agents respectively.\n",
    "    You will also be responsible for coordinating the work of these agents, ensuring that the overall architecture is aligned with the user's requirements and constraints.\n",
    "\n",
    "    You will be given a user problem and a list of architect domain agents.\n",
    "    You need to decide which agents are best suited to work on which components of the problem.\n",
    "    \n",
    "    User Problem: {state[\"user_problem\"]}\n",
    "    Current Iteration: {state[\"iteration_count\"]}\n",
    "\n",
    "    Architect Domain Agents: \n",
    "    \n",
    "    \"\"\""
   ]
  }
 ],
 "metadata": {
  "kernelspec": {
   "display_name": "env_cloudyIntel",
   "language": "python",
   "name": "python3"
  },
  "language_info": {
   "codemirror_mode": {
    "name": "ipython",
    "version": 3
   },
   "file_extension": ".py",
   "mimetype": "text/x-python",
   "name": "python",
   "nbconvert_exporter": "python",
   "pygments_lexer": "ipython3",
   "version": "3.12.5"
  }
 },
 "nbformat": 4,
 "nbformat_minor": 5
}
