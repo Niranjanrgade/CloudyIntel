{
 "cells": [
  {
   "cell_type": "code",
   "execution_count": 24,
   "id": "17bac221",
   "metadata": {},
   "outputs": [
    {
     "data": {
      "text/plain": [
       "True"
      ]
     },
     "execution_count": 24,
     "metadata": {},
     "output_type": "execute_result"
    }
   ],
   "source": [
    "import sys\n",
    "import os\n",
    "from dotenv import load_dotenv\n",
    "from enum import Enum\n",
    "from typing import TypedDict, Annotated, List, Dict, Any, Optional\n",
    "from langchain_openai import ChatOpenAI\n",
    "from langchain_core.tools import Tool\n",
    "from langchain_core.messages import HumanMessage, SystemMessage, AIMessage\n",
    "from langgraph.graph import add_messages, StateGraph, START, END\n",
    "from langgraph.checkpoint.memory import MemorySaver\n",
    "from langchain_community.utilities import GoogleSerperAPIWrapper\n",
    "\n",
    "load_dotenv(override=True)"
   ]
  },
  {
   "cell_type": "code",
   "execution_count": 47,
   "id": "f6fedcc8",
   "metadata": {},
   "outputs": [],
   "source": [
    "\n",
    "llm = ChatOpenAI(model=\"gpt-4o-mini\")\n",
    "serper = GoogleSerperAPIWrapper()\n",
    "tool_web_search = Tool(\n",
    "    name=\"web_search\",\n",
    "    func=serper.run,\n",
    "    description=\"Useful for when you need more information from the web about a query\"\n",
    ")\n",
    "tools = [tool_web_search]\n",
    "llm_with_tools = llm.bind_tools(tools)\n"
   ]
  },
  {
   "cell_type": "code",
   "execution_count": 13,
   "id": "8a54b09a",
   "metadata": {},
   "outputs": [],
   "source": [
    "class Phase(str, Enum):\n",
    "    GENERATE = \"generate\"\n",
    "    VALIDATE = \"validate\"\n",
    "    AUDIT = \"audit\"\n",
    "    COMPLETE = \"complete\""
   ]
  },
  {
   "cell_type": "code",
   "execution_count": 17,
   "id": "7798f80e",
   "metadata": {},
   "outputs": [],
   "source": [
    "class State(TypedDict):\n",
    "    messages: Annotated[List, add_messages]\n",
    "    user_problem: str\n",
    "    current_phase: Phase\n",
    "    iteration_count: int\n",
    "    \n",
    "    proposed_architecture: Dict[str, Any]\n",
    "    architecture_components: Dict[str, Dict[str, Any]]\n",
    "\n",
    "    validation_feedback: List[Dict[str, Any]]\n",
    "    audit_feedback: List[Dict[str, Any]]\n",
    "\n",
    "    active_agents: List[str]\n",
    "    completed_agents: List[str]\n",
    "\n",
    "    factual_errors_exist: bool\n",
    "    design_flaws_exist: bool\n",
    "\n",
    "    final_architecture: Optional[Dict[str, Any]]\n",
    "    architecture_summary: Optional[str]\n",
    "    "
   ]
  },
  {
   "cell_type": "code",
   "execution_count": 40,
   "id": "d25edf6d",
   "metadata": {},
   "outputs": [],
   "source": [
    "def architect_supervisor(state: State) -> State:\n",
    "    \"\"\"\n",
    "    This function orchestrates the architecture generation process and coordinates the architect agents.\n",
    "    \"\"\"\n",
    "\n",
    "    system_prompt = f\"\"\"\n",
    "    You are a architect supervisor for AWS cloud architecture.\n",
    "    Your role is to decompose the user's problem into smaller components on the basis of domain and assign them to different architect domain agents respectively.\n",
    "    You will also be responsible for coordinating the work of these agents, ensuring that the overall architecture is aligned with the user's requirements and constraints.\n",
    "\n",
    "    User Problem: {state[\"user_problem\"]}\n",
    "    Current Iteration: {state[\"iteration_count\"]}\n",
    "\n",
    "    Available feedback:\n",
    "    - Validation feedback: {state[\"validation_feedback\"]}\n",
    "    - Audit feedback: {state[\"audit_feedback\"]}\n",
    "\n",
    "    Proposed Architecture: {state[\"proposed_architecture\"]}\n",
    "\n",
    "    Architecture Components: {state[\"architecture_components\"]}\n",
    "\n",
    "    Decompose the problem into tasks for:\n",
    "    1. Compute Architect (EC2, Lambda, ECS, EKS, etc.)\n",
    "    2. Network Architect (VPC, Subnets, ALB, CloudFront, Route 53, Security Groups, Route Tables, etc.)\n",
    "    3. Storage Architect (S3, EBS, EFS, etc.)\n",
    "    4. Database Architect (RDS, DynamoDB, ElastiCache, etc.)\n",
    "\n",
    "    Provide clear instructions for each domain architect agent.\n",
    "    \"\"\"\n",
    "\n",
    "    messages = [SystemMessage(content=system_prompt)]\n",
    "    response = llm.invoke(messages)\n",
    "\n",
    "    new_state = state.copy()\n",
    "    new_state[\"messages\"].append(AIMessage(content=response.content))\n",
    "    new_state[\"active_agents\"] = [\"compute_architect\", \"network_architect\", \"storage_architect\", \"database_architect\"]\n",
    "    new_state[\"completed_agents\"] = []\n",
    "\n",
    "    return new_state"
   ]
  },
  {
   "cell_type": "code",
   "execution_count": 26,
   "id": "235aaae2",
   "metadata": {},
   "outputs": [],
   "source": [
    "memory = MemorySaver()"
   ]
  },
  {
   "cell_type": "code",
   "execution_count": 41,
   "id": "0eeec6db",
   "metadata": {},
   "outputs": [],
   "source": [
    "graph_builder = StateGraph(State)\n",
    "\n",
    "graph_builder.add_node(\"architect_supervisor\", architect_supervisor)\n",
    "graph_builder.add_edge(START, \"architect_supervisor\")\n",
    "graph_builder.add_edge(\"architect_supervisor\", END)\n",
    "\n",
    "# graph = graph_builder.compile(checkpointer=memory)\n",
    "graph = graph_builder.compile()"
   ]
  },
  {
   "cell_type": "code",
   "execution_count": 42,
   "id": "94c838b9",
   "metadata": {},
   "outputs": [
    {
     "data": {
      "image/png": "[encoded data removed]",
      "text/plain": [
       "<langgraph.graph.state.CompiledStateGraph object at 0x000001542F4420F0>"
      ]
     },
     "execution_count": 42,
     "metadata": {},
     "output_type": "execute_result"
    }
   ],
   "source": [
    "graph"
   ]
  },
  {
   "cell_type": "code",
   "execution_count": 45,
   "id": "3fa4eaa7",
   "metadata": {},
   "outputs": [],
   "source": [
    "def create_initial_state(user_problem: str) -> State:\n",
    "    \"\"\"\n",
    "    Create the initial state for the architecture generation process.\n",
    "    \"\"\"\n",
    "    return {\n",
    "        \"messages\": [HumanMessage(content=user_problem)],\n",
    "        \"user_problem\": user_problem,\n",
    "        \"current_phase\": Phase.GENERATE,\n",
    "        \"iteration_count\": 0,\n",
    "        \"proposed_architecture\": {},\n",
    "        \"architecture_components\": {},\n",
    "        \"validation_feedback\": [],\n",
    "        \"audit_feedback\": [],\n",
    "        \"active_agents\": [],\n",
    "        \"completed_agents\": [], \n",
    "        \"factual_errors_exist\": False,\n",
    "        \"design_flaws_exist\": False,\n",
    "        \"final_architecture\": None,\n",
    "        \"architecture_summary\": None\n",
    "    }"
   ]
  },
  {
   "cell_type": "code",
   "execution_count": 48,
   "id": "047dccf4",
   "metadata": {},
   "outputs": [],
   "source": [
    "final_state = graph.invoke(create_initial_state(\"I need a scalable web application with a database and a storage system.\"))"
   ]
  },
  {
   "cell_type": "code",
   "execution_count": 50,
   "id": "7dbfc689",
   "metadata": {},
   "outputs": [
    {
     "data": {
      "text/plain": [
       "{'messages': [HumanMessage(content='I need a scalable web application with a database and a storage system.', additional_kwargs={}, response_metadata={}, id='32da848f-3481-49da-b46f-6c1f9dc60614'),\n",
       "  AIMessage(content=\"### Decomposed Tasks for Each Domain Architect Agent\\n\\n**1. Compute Architect**\\n   - **Task**: Develop a strategy for deploying the web application reliably and at scale.\\n   - **Instructions**: \\n     - Assess the application’s workload characteristics to determine the best compute service (EC2, Lambda, ECS, EKS).\\n     - If choosing EC2, define instance types, autoscaling groups, and load balancing requirements.\\n     - If using containerized applications, outline the container orchestration choice (ECS vs EKS) along with the process of deploying and managing the application.\\n     - For serverless applications, evaluate Lambda's function configurations and event sources.\\n     - Ensure the architecture supports scalability, high availability, and fault tolerance.\\n\\n**2. Network Architect**\\n   - **Task**: Design the network infrastructure for the web application.\\n   - **Instructions**: \\n     - Specify the Virtual Private Cloud (VPC) layout, including subnets (public/private) and IP address ranges.\\n     - Determine the needs for an Application Load Balancer (ALB) to route traffic to the compute services.\\n     - Define security measures through Security Groups and Network ACLs for controlling inbound and outbound traffic.\\n     - Evaluate the need for CloudFront for CDN distribution, and plan Route 53 for DNS management.\\n     - Ensure that the architecture supports robust and secure connectivity between components.\\n\\n**3. Storage Architect**\\n   - **Task**: Outline a storage solution that meets the application’s data storage and management needs.\\n   - **Instructions**: \\n     - Analyze the types of data being handled by the application to recommend appropriate storage solutions (e.g., S3 for object storage, EBS for block storage, EFS for file storage).\\n     - Define lifecycle policies for data management within S3 to optimize costs.\\n     - Assess requirements for data backup, durability, and availability.\\n     - Ensure scalability to handle anticipated growth in data storage needs.\\n\\n**4. Database Architect**\\n   - **Task**: Design the database strategy that fits the application’s data handling requirements.\\n   - **Instructions**: \\n     - Determine if the application requires a relational database (RDS) or a NoSQL database (DynamoDB) based on the data structure and query requirements.\\n     - If using RDS, choose the appropriate engine (MySQL, PostgreSQL, etc.), instance type, and configure read replicas for scalability.\\n     - For DynamoDB, define the table structure, access patterns, and provisioning of read/write capacity.\\n     - Consider caching strategies using ElastiCache to enhance performance if necessary.\\n     - Ensure database scalability, consistency, and durability.\\n\\n### Next Steps\\n- Send each domain architect agent their respective tasks and instructions.\\n- Once tasks are completed, receive the inputs from each agent.\\n- Validate that the components align and integrate into a cohesive architecture that satisfies user requirements. \\n- Coordinate with agents for any dependencies or adjustments needed during their design processes.\", additional_kwargs={}, response_metadata={}, id='b60f17f8-5aee-4da0-930f-1a605a4d8939')],\n",
       " 'user_problem': 'I need a scalable web application with a database and a storage system.',\n",
       " 'current_phase': <Phase.GENERATE: 'generate'>,\n",
       " 'iteration_count': 0,\n",
       " 'proposed_architecture': {},\n",
       " 'architecture_components': {},\n",
       " 'validation_feedback': [],\n",
       " 'audit_feedback': [],\n",
       " 'active_agents': ['compute_architect',\n",
       "  'network_architect',\n",
       "  'storage_architect',\n",
       "  'database_architect'],\n",
       " 'completed_agents': [],\n",
       " 'factual_errors_exist': False,\n",
       " 'design_flaws_exist': False,\n",
       " 'final_architecture': None,\n",
       " 'architecture_summary': None}"
      ]
     },
     "execution_count": 50,
     "metadata": {},
     "output_type": "execute_result"
    }
   ],
   "source": [
    "final_state"
   ]
  },
  {
   "cell_type": "code",
   "execution_count": 49,
   "id": "579a89e4",
   "metadata": {},
   "outputs": [
    {
     "name": "stdout",
     "output_type": "stream",
     "text": [
      "================================\u001b[1m Human Message \u001b[0m=================================\n",
      "\n",
      "I need a scalable web application with a database and a storage system.\n",
      "==================================\u001b[1m Ai Message \u001b[0m==================================\n",
      "\n",
      "### Decomposed Tasks for Each Domain Architect Agent\n",
      "\n",
      "**1. Compute Architect**\n",
      "   - **Task**: Develop a strategy for deploying the web application reliably and at scale.\n",
      "   - **Instructions**: \n",
      "     - Assess the application’s workload characteristics to determine the best compute service (EC2, Lambda, ECS, EKS).\n",
      "     - If choosing EC2, define instance types, autoscaling groups, and load balancing requirements.\n",
      "     - If using containerized applications, outline the container orchestration choice (ECS vs EKS) along with the process of deploying and managing the application.\n",
      "     - For serverless applications, evaluate Lambda's function configurations and event sources.\n",
      "     - Ensure the architecture supports scalability, high availability, and fault tolerance.\n",
      "\n",
      "**2. Network Architect**\n",
      "   - **Task**: Design the network infrastructure for the web application.\n",
      "   - **Instructions**: \n",
      "     - Specify the Virtual Private Cloud (VPC) layout, including subnets (public/private) and IP address ranges.\n",
      "     - Determine the needs for an Application Load Balancer (ALB) to route traffic to the compute services.\n",
      "     - Define security measures through Security Groups and Network ACLs for controlling inbound and outbound traffic.\n",
      "     - Evaluate the need for CloudFront for CDN distribution, and plan Route 53 for DNS management.\n",
      "     - Ensure that the architecture supports robust and secure connectivity between components.\n",
      "\n",
      "**3. Storage Architect**\n",
      "   - **Task**: Outline a storage solution that meets the application’s data storage and management needs.\n",
      "   - **Instructions**: \n",
      "     - Analyze the types of data being handled by the application to recommend appropriate storage solutions (e.g., S3 for object storage, EBS for block storage, EFS for file storage).\n",
      "     - Define lifecycle policies for data management within S3 to optimize costs.\n",
      "     - Assess requirements for data backup, durability, and availability.\n",
      "     - Ensure scalability to handle anticipated growth in data storage needs.\n",
      "\n",
      "**4. Database Architect**\n",
      "   - **Task**: Design the database strategy that fits the application’s data handling requirements.\n",
      "   - **Instructions**: \n",
      "     - Determine if the application requires a relational database (RDS) or a NoSQL database (DynamoDB) based on the data structure and query requirements.\n",
      "     - If using RDS, choose the appropriate engine (MySQL, PostgreSQL, etc.), instance type, and configure read replicas for scalability.\n",
      "     - For DynamoDB, define the table structure, access patterns, and provisioning of read/write capacity.\n",
      "     - Consider caching strategies using ElastiCache to enhance performance if necessary.\n",
      "     - Ensure database scalability, consistency, and durability.\n",
      "\n",
      "### Next Steps\n",
      "- Send each domain architect agent their respective tasks and instructions.\n",
      "- Once tasks are completed, receive the inputs from each agent.\n",
      "- Validate that the components align and integrate into a cohesive architecture that satisfies user requirements. \n",
      "- Coordinate with agents for any dependencies or adjustments needed during their design processes.\n"
     ]
    }
   ],
   "source": [
    "for message in final_state['messages']:\n",
    "    message.pretty_print()"
   ]
  },
  {
   "cell_type": "code",
   "execution_count": 57,
   "id": "ba5dd5e9",
   "metadata": {},
   "outputs": [],
   "source": [
    "def mark_agent_complete(state: State, agent_name: str) -> State:\n",
    "    \"\"\"\n",
    "    Mark the specified agent as complete in the state.\n",
    "    \"\"\"\n",
    "    new_state = state.copy()\n",
    "    if agent_name not in new_state[\"active_agents\"]:\n",
    "        new_state[\"completed_agents\"].append(agent_name)\n",
    "            \n",
    "    return new_state"
   ]
  },
  {
   "cell_type": "code",
   "execution_count": 53,
   "id": "44e4828c",
   "metadata": {},
   "outputs": [],
   "source": [
    "def compute_architect(state: State) -> State:\n",
    "    \"\"\"\n",
    "    This function implements the AWS compute architect agent.\n",
    "    \"\"\"\n",
    "\n",
    "    system_prompt = f\"\"\"\n",
    "    You are a compute architect for AWS cloud architecture.\n",
    "    Your role is to design the compute infrastructure for the user's problem.\n",
    "\n",
    "    Design compute components for: {state[\"user_problem\"]}\n",
    "\n",
    "    Consider:\n",
    "    - EC2 instances (types, sizes, placement groups)\n",
    "    - Lambda functions (serverless compute)\n",
    "    - ECS/EKS (container orchestration)\n",
    "    - Auto Scaling Groups \n",
    "    - Load Balancers \n",
    "\n",
    "    Use the web search only if you need more information about the compute pricing, features, or best practices.\n",
    "    Provide detailed configuration recommendations.\n",
    "    \"\"\"\n",
    "\n",
    "    messages = [SystemMessage(content=system_prompt)]\n",
    "    response = llm_with_tools.invoke(messages)\n",
    "\n",
    "    new_state = mark_agent_complete(state, \"compute_architect\")\n",
    "    new_state[\"messages\"].append(AIMessage(content=response.content))\n",
    "    new_state[\"architecture_components\"][\"compute\"] = {\n",
    "        \"recommendations\": response.content,\n",
    "        \"agent\": \"compute_architect\"\n",
    "    }\n",
    "\n",
    "    return new_state"
   ]
  },
  {
   "cell_type": "code",
   "execution_count": null,
   "id": "87cd7337",
   "metadata": {},
   "outputs": [],
   "source": [
    "def agent_completion_router(state: State) -> State:\n",
    "    \"\"\"\n",
    "    This function implements the agent completion routing based on the active_agents and completed_agents.\n",
    "    \"\"\"\n",
    "    if state[\"current_phase\"] == Phase.GENERATE:\n",
    "        required_agents = [\"compute_architect\", \"network_architect\", \"storage_architect\", \"database_architect\"]\n",
    "        if all(agent in state[\"completed_agents\"] for agent in required_agents):\n",
    "            return \"move_to_validation\"\n",
    "        else:\n",
    "            return \"continue_generation\""
   ]
  },
  {
   "cell_type": "code",
   "execution_count": 55,
   "id": "54022c1c",
   "metadata": {},
   "outputs": [],
   "source": [
    "def phase_router(state: State) -> State:\n",
    "    \"\"\"\n",
    "    This function implements the phase routing based on the current_phase and quality gates.\n",
    "    \"\"\"\n",
    "    if state[\"current_phase\"] == Phase.GENERATE:\n",
    "        return \"architect_supervisor\"\n",
    "    elif state[\"current_phase\"] == Phase.VALIDATE:\n",
    "        return \"validator_supervisor\"\n",
    "    elif state[\"current_phase\"] == Phase.AUDIT:\n",
    "        return \"auditor_supervisor\"\n",
    "    elif state[\"current_phase\"] == Phase.COMPLETE:\n",
    "        return \"final_presenter\"\n",
    "    else:\n",
    "        return \"architect_supervisor\""
   ]
  },
  {
   "cell_type": "code",
   "execution_count": 59,
   "id": "f6438795",
   "metadata": {},
   "outputs": [
    {
     "ename": "ValueError",
     "evalue": "At 'architect_supervisor' node, 'agent_completion_router' branch found unknown target 'validator_supervisor'",
     "output_type": "error",
     "traceback": [
      "\u001b[31m---------------------------------------------------------------------------\u001b[39m",
      "\u001b[31mValueError\u001b[39m                                Traceback (most recent call last)",
      "\u001b[36mCell\u001b[39m\u001b[36m \u001b[39m\u001b[32mIn[59]\u001b[39m\u001b[32m, line 7\u001b[39m\n\u001b[32m      5\u001b[39m graph_builder.add_conditional_edges(\u001b[33m\"\u001b[39m\u001b[33marchitect_supervisor\u001b[39m\u001b[33m\"\u001b[39m, agent_completion_router, {\u001b[33m\"\u001b[39m\u001b[33mmove_to_validation\u001b[39m\u001b[33m\"\u001b[39m: \u001b[33m\"\u001b[39m\u001b[33mvalidator_supervisor\u001b[39m\u001b[33m\"\u001b[39m, \u001b[33m\"\u001b[39m\u001b[33mcontinue_generation\u001b[39m\u001b[33m\"\u001b[39m: \u001b[33m\"\u001b[39m\u001b[33mcompute_architect\u001b[39m\u001b[33m\"\u001b[39m})\n\u001b[32m      6\u001b[39m \u001b[38;5;66;03m# graph = graph_builder.compile(checkpointer=memory)\u001b[39;00m\n\u001b[32m----> \u001b[39m\u001b[32m7\u001b[39m graph = \u001b[43mgraph_builder\u001b[49m\u001b[43m.\u001b[49m\u001b[43mcompile\u001b[49m\u001b[43m(\u001b[49m\u001b[43m)\u001b[49m\n",
      "\u001b[36mFile \u001b[39m\u001b[32mc:\\Users\\niran.NIRANJAN_GADE\\OneDrive\\Desktop\\Projects\\CloudyIntel\\env_cloudyIntel\\Lib\\site-packages\\langgraph\\graph\\state.py:836\u001b[39m, in \u001b[36mStateGraph.compile\u001b[39m\u001b[34m(self, checkpointer, cache, store, interrupt_before, interrupt_after, debug, name)\u001b[39m\n\u001b[32m    833\u001b[39m interrupt_after = interrupt_after \u001b[38;5;129;01mor\u001b[39;00m []\n\u001b[32m    835\u001b[39m \u001b[38;5;66;03m# validate the graph\u001b[39;00m\n\u001b[32m--> \u001b[39m\u001b[32m836\u001b[39m \u001b[38;5;28;43mself\u001b[39;49m\u001b[43m.\u001b[49m\u001b[43mvalidate\u001b[49m\u001b[43m(\u001b[49m\n\u001b[32m    837\u001b[39m \u001b[43m    \u001b[49m\u001b[43minterrupt\u001b[49m\u001b[43m=\u001b[49m\u001b[43m(\u001b[49m\n\u001b[32m    838\u001b[39m \u001b[43m        \u001b[49m\u001b[43m(\u001b[49m\u001b[43minterrupt_before\u001b[49m\u001b[43m \u001b[49m\u001b[38;5;28;43;01mif\u001b[39;49;00m\u001b[43m \u001b[49m\u001b[43minterrupt_before\u001b[49m\u001b[43m \u001b[49m\u001b[43m!=\u001b[49m\u001b[43m \u001b[49m\u001b[33;43m\"\u001b[39;49m\u001b[33;43m*\u001b[39;49m\u001b[33;43m\"\u001b[39;49m\u001b[43m \u001b[49m\u001b[38;5;28;43;01melse\u001b[39;49;00m\u001b[43m \u001b[49m\u001b[43m[\u001b[49m\u001b[43m]\u001b[49m\u001b[43m)\u001b[49m\u001b[43m \u001b[49m\u001b[43m+\u001b[49m\u001b[43m \u001b[49m\u001b[43minterrupt_after\u001b[49m\n\u001b[32m    839\u001b[39m \u001b[43m        \u001b[49m\u001b[38;5;28;43;01mif\u001b[39;49;00m\u001b[43m \u001b[49m\u001b[43minterrupt_after\u001b[49m\u001b[43m \u001b[49m\u001b[43m!=\u001b[49m\u001b[43m \u001b[49m\u001b[33;43m\"\u001b[39;49m\u001b[33;43m*\u001b[39;49m\u001b[33;43m\"\u001b[39;49m\n\u001b[32m    840\u001b[39m \u001b[43m        \u001b[49m\u001b[38;5;28;43;01melse\u001b[39;49;00m\u001b[43m \u001b[49m\u001b[43m[\u001b[49m\u001b[43m]\u001b[49m\n\u001b[32m    841\u001b[39m \u001b[43m    \u001b[49m\u001b[43m)\u001b[49m\n\u001b[32m    842\u001b[39m \u001b[43m\u001b[49m\u001b[43m)\u001b[49m\n\u001b[32m    844\u001b[39m \u001b[38;5;66;03m# prepare output channels\u001b[39;00m\n\u001b[32m    845\u001b[39m output_channels = (\n\u001b[32m    846\u001b[39m     \u001b[33m\"\u001b[39m\u001b[33m__root__\u001b[39m\u001b[33m\"\u001b[39m\n\u001b[32m    847\u001b[39m     \u001b[38;5;28;01mif\u001b[39;00m \u001b[38;5;28mlen\u001b[39m(\u001b[38;5;28mself\u001b[39m.schemas[\u001b[38;5;28mself\u001b[39m.output_schema]) == \u001b[32m1\u001b[39m\n\u001b[32m   (...)\u001b[39m\u001b[32m    853\u001b[39m     ]\n\u001b[32m    854\u001b[39m )\n",
      "\u001b[36mFile \u001b[39m\u001b[32mc:\\Users\\niran.NIRANJAN_GADE\\OneDrive\\Desktop\\Projects\\CloudyIntel\\env_cloudyIntel\\Lib\\site-packages\\langgraph\\graph\\state.py:777\u001b[39m, in \u001b[36mStateGraph.validate\u001b[39m\u001b[34m(self, interrupt)\u001b[39m\n\u001b[32m    775\u001b[39m     \u001b[38;5;28;01mfor\u001b[39;00m end \u001b[38;5;129;01min\u001b[39;00m branch.ends.values():\n\u001b[32m    776\u001b[39m         \u001b[38;5;28;01mif\u001b[39;00m end \u001b[38;5;129;01mnot\u001b[39;00m \u001b[38;5;129;01min\u001b[39;00m \u001b[38;5;28mself\u001b[39m.nodes \u001b[38;5;129;01mand\u001b[39;00m end != END:\n\u001b[32m--> \u001b[39m\u001b[32m777\u001b[39m             \u001b[38;5;28;01mraise\u001b[39;00m \u001b[38;5;167;01mValueError\u001b[39;00m(\n\u001b[32m    778\u001b[39m                 \u001b[33mf\u001b[39m\u001b[33m\"\u001b[39m\u001b[33mAt \u001b[39m\u001b[33m'\u001b[39m\u001b[38;5;132;01m{\u001b[39;00mstart\u001b[38;5;132;01m}\u001b[39;00m\u001b[33m'\u001b[39m\u001b[33m node, \u001b[39m\u001b[33m'\u001b[39m\u001b[38;5;132;01m{\u001b[39;00mcond\u001b[38;5;132;01m}\u001b[39;00m\u001b[33m'\u001b[39m\u001b[33m branch found unknown target \u001b[39m\u001b[33m'\u001b[39m\u001b[38;5;132;01m{\u001b[39;00mend\u001b[38;5;132;01m}\u001b[39;00m\u001b[33m'\u001b[39m\u001b[33m\"\u001b[39m\n\u001b[32m    779\u001b[39m             )\n\u001b[32m    780\u001b[39m         all_targets.add(end)\n\u001b[32m    781\u001b[39m \u001b[38;5;28;01melse\u001b[39;00m:\n",
      "\u001b[31mValueError\u001b[39m: At 'architect_supervisor' node, 'agent_completion_router' branch found unknown target 'validator_supervisor'"
     ]
    }
   ],
   "source": [
    "graph_builder = StateGraph(State)\n",
    "\n",
    "graph_builder.add_node(\"architect_supervisor\", architect_supervisor)\n",
    "graph_builder.add_edge(START, \"architect_supervisor\")\n",
    "graph_builder.add_conditional_edges(\"architect_supervisor\", agent_completion_router, {\"move_to_validation\": \"validator_supervisor\", \"continue_generation\": \"compute_architect\"})\n",
    "# graph = graph_builder.compile(checkpointer=memory)\n",
    "graph = graph_builder.compile()"
   ]
  },
  {
   "cell_type": "code",
   "execution_count": null,
   "id": "04619af7",
   "metadata": {},
   "outputs": [],
   "source": [
    "def validator_supervisor(state: State) -> State:\n",
    "    \"\"\"\n",
    "    Supervisor that coordinates all validator agents.\n",
    "    \"\"\"\n",
    "\n",
    "    system_prompt = f\"\"\"\n",
    "    You are a validator supervisor for AWS cloud architecture.\n",
    "    Your role is to coordinate the domain validators to validate the architecture components for factual correctness.\n",
    "    \"\"\""
   ]
  }
 ],
 "metadata": {
  "kernelspec": {
   "display_name": "env_cloudyIntel",
   "language": "python",
   "name": "python3"
  },
  "language_info": {
   "codemirror_mode": {
    "name": "ipython",
    "version": 3
   },
   "file_extension": ".py",
   "mimetype": "text/x-python",
   "name": "python",
   "nbconvert_exporter": "python",
   "pygments_lexer": "ipython3",
   "version": "3.12.5"
  }
 },
 "nbformat": 4,
 "nbformat_minor": 5
}
