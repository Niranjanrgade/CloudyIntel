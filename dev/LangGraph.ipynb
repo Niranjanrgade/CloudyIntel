{
 "cells": [
  {
   "cell_type": "code",
   "execution_count": 39,
   "id": "d0cbdd73",
   "metadata": {},
   "outputs": [],
   "source": [
    "from dotenv import load_dotenv\n",
    "from typing import TypedDict, Annotated\n",
    "from langgraph.graph import StateGraph, add_messages, START, END\n",
    "from langchain_core.tools import Tool\n",
    "from langchain_openai import ChatOpenAI\n",
    "from langgraph.checkpoint.memory import MemorySaver\n",
    "from langgraph.prebuilt import ToolNode, tools_condition"
   ]
  },
  {
   "cell_type": "code",
   "execution_count": 29,
   "id": "b39a2f9b",
   "metadata": {},
   "outputs": [
    {
     "data": {
      "text/plain": [
       "True"
      ]
     },
     "execution_count": 29,
     "metadata": {},
     "output_type": "execute_result"
    }
   ],
   "source": [
    "load_dotenv(override=True)"
   ]
  },
  {
   "cell_type": "code",
   "execution_count": 30,
   "id": "615e1096",
   "metadata": {},
   "outputs": [],
   "source": [
    "from langchain_community.utilities import GoogleSerperAPIWrapper\n",
    "\n",
    "serper = GoogleSerperAPIWrapper()"
   ]
  },
  {
   "cell_type": "code",
   "execution_count": 31,
   "id": "533599c9",
   "metadata": {},
   "outputs": [],
   "source": [
    "tool_web_search = Tool(\n",
    "        name=\"web_search\",\n",
    "        func=serper.run,\n",
    "        description=\"Useful for when you need more information from an online search\",\n",
    "    )\n",
    "tools = [tool_web_search]"
   ]
  },
  {
   "cell_type": "code",
   "execution_count": 32,
   "id": "bdae4efb",
   "metadata": {},
   "outputs": [],
   "source": [
    "\n",
    "# Step 1: Define the State object\n",
    "\n",
    "class State(TypedDict):\n",
    "    messages: Annotated[list, add_messages]"
   ]
  },
  {
   "cell_type": "code",
   "execution_count": 33,
   "id": "a1b8e630",
   "metadata": {},
   "outputs": [],
   "source": [
    "# Step 2: Start the Graph Builder with this State class\n",
    "graph_builder = StateGraph(State)"
   ]
  },
  {
   "cell_type": "code",
   "execution_count": 34,
   "id": "dd7f3749",
   "metadata": {},
   "outputs": [],
   "source": [
    "llm = ChatOpenAI(model=\"gpt-5-mini\", temperature=0.2)"
   ]
  },
  {
   "cell_type": "code",
   "execution_count": 35,
   "id": "3d975581",
   "metadata": {},
   "outputs": [],
   "source": [
    "llm_with_tools = llm.bind_tools(tools)"
   ]
  },
  {
   "cell_type": "code",
   "execution_count": 36,
   "id": "be21c8e9",
   "metadata": {},
   "outputs": [],
   "source": [
    "def aws_compute_domain_architect(state: State) -> State:\n",
    "    \"\"\"\n",
    "    This function is used to architect the AWS compute domain.\n",
    "    \"\"\"\n",
    "    response = llm_with_tools.invoke(state[\"messages\"])\n",
    "    return {\"messages\": [response]}"
   ]
  },
  {
   "cell_type": "code",
   "execution_count": 37,
   "id": "5f0a1ccf",
   "metadata": {},
   "outputs": [],
   "source": [
    "memory = MemorySaver()"
   ]
  },
  {
   "cell_type": "code",
   "execution_count": 38,
   "id": "97036fb2",
   "metadata": {},
   "outputs": [],
   "source": [
    "web_search_tool_node = ToolNode(tools=tools)"
   ]
  },
  {
   "cell_type": "code",
   "execution_count": 40,
   "id": "c4209c95",
   "metadata": {},
   "outputs": [],
   "source": [
    "graph_builder.add_node(\"aws_compute_domain_architect\", aws_compute_domain_architect)\n",
    "graph_builder.add_node(\"web_search_tool_node\", web_search_tool_node)\n",
    "\n",
    "graph_builder.add_edge(START, \"aws_compute_domain_architect\")\n",
    "graph_builder.add_conditional_edges(\"aws_compute_domain_architect\", tools_condition, [\"web_search_tool_node\", END])\n",
    "\n",
    "graph = graph_builder.compile()"
   ]
  },
  {
   "cell_type": "code",
   "execution_count": 41,
   "id": "59655d74",
   "metadata": {},
   "outputs": [
    {
     "data": {
      "image/png": "[encoded data removed]",
      "text/plain": [
       "<langgraph.graph.state.CompiledStateGraph object at 0x000002B24B6A3D70>"
      ]
     },
     "execution_count": 41,
     "metadata": {},
     "output_type": "execute_result"
    }
   ],
   "source": [
    "graph"
   ]
  },
  {
   "cell_type": "code",
   "execution_count": null,
   "id": "2453d98d",
   "metadata": {},
   "outputs": [],
   "source": []
  }
 ],
 "metadata": {
  "kernelspec": {
   "display_name": "env_cloudyIntel",
   "language": "python",
   "name": "python3"
  },
  "language_info": {
   "codemirror_mode": {
    "name": "ipython",
    "version": 3
   },
   "file_extension": ".py",
   "mimetype": "text/x-python",
   "name": "python",
   "nbconvert_exporter": "python",
   "pygments_lexer": "ipython3",
   "version": "3.12.5"
  }
 },
 "nbformat": 4,
 "nbformat_minor": 5
}
